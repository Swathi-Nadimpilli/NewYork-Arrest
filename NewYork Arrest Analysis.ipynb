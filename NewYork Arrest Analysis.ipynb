{
 "cells": [
  {
   "cell_type": "code",
   "execution_count": 25,
   "id": "30ea9b32",
   "metadata": {},
   "outputs": [],
   "source": [
    "import findspark\n",
    "findspark.init()\n",
    "from pyspark.sql import SparkSession\n",
    "spark = SparkSession.builder \\\n",
    "    .appName(\"MySparkApp\") \\\n",
    "    .getOrCreate()"
   ]
  },
  {
   "cell_type": "code",
   "execution_count": 26,
   "id": "8118083b",
   "metadata": {},
   "outputs": [
    {
     "name": "stdout",
     "output_type": "stream",
     "text": [
      "+----------+-----------+-----+--------------------+-----+--------------------+----------+----------+-----------+---------------+-----------------+---------+--------+--------------+----------+----------+----------------+-----------------+------------------------+\n",
      "|ARREST_KEY|ARREST_DATE|PD_CD|             PD_DESC|KY_CD|           OFNS_DESC|  LAW_CODE|LAW_CAT_CD|ARREST_BORO|ARREST_PRECINCT|JURISDICTION_CODE|AGE_GROUP|PERP_SEX|     PERP_RACE|X_COORD_CD|Y_COORD_CD|        Latitude|        Longitude|New Georeferenced Column|\n",
      "+----------+-----------+-----+--------------------+-----+--------------------+----------+----------+-----------+---------------+-----------------+---------+--------+--------------+----------+----------+----------------+-----------------+------------------------+\n",
      "| 261249590| 01/02/2023|  339|LARCENY,PETIT FRO...|  341|       PETIT LARCENY|PL 1552500|         M|          M|              6|                0|    25-44|       M|         BLACK|    982745|    206647|       40.733876|       -74.005428|    POINT (-74.005428...|\n",
      "| 261271301| 01/03/2023|  105|   STRANGULATION 1ST|  106|      FELONY ASSAULT|PL 1211200|         F|          S|            120|                0|    25-44|       M|         WHITE|    962808|    174275|       40.644996|       -74.077263|    POINT (-74.077263...|\n",
      "| 262235280| 01/20/2023|  109|ASSAULT 2,1,UNCLA...|  106|      FELONY ASSAULT|PL 1200501|         F|          K|             62|                0|    45-64|       M|         WHITE|    983289|    158770|       40.602464|        -74.00346|    POINT (-74.00346 ...|\n",
      "| 264404265| 03/01/2023|  101|           ASSAULT 3|  344|ASSAULT 3 & RELAT...|PL 1200001|         M|          S|            120|                0|      <18|       F|         BLACK|    958743|    173302|       40.642316|       -74.091908|    POINT (-74.091908...|\n",
      "| 264443630| 03/02/2023|  808|             TAX LAW|  125|OTHER STATE LAWS ...|TAX181400A|         F|          K|             83|                0|    25-44|       F|         WHITE|   1006097|    195371|       40.702901|       -73.921203|    POINT (-73.921203...|\n",
      "| 264943177| 03/10/2023|  101|           ASSAULT 3|  344|ASSAULT 3 & RELAT...|PL 1200001|         M|          M|              6|                0|    45-64|       M|         WHITE|    983944|    208569|       40.739153|       -74.001104|    POINT (-74.001104...|\n",
      "| 265798132| 03/28/2023|  157|              RAPE 1|  104|                RAPE|PL 1303501|         F|          S|            120|                0|    25-44|       M|         BLACK|    962873|    174172|40.6447209438691|-74.0770327198983|    POINT (-74.077032...|\n",
      "| 266141086| 04/04/2023| NULL|              (null)| NULL|              (null)|PL 215401B|         F|          S|            120|                0|    25-44|       M|         BLACK|    962808|    174275|       40.644996|       -74.077263|    POINT (-74.077263...|\n",
      "| 266358046| 04/07/2023|  157|              RAPE 1|  104|                RAPE|PL 1303501|         F|          S|            120|                0|    45-64|       M|         BLACK|    962873|    174172|40.6447209438691|-74.0770327198983|    POINT (-74.077032...|\n",
      "| 269233687| 06/02/2023|  157|              RAPE 1|  104|                RAPE|PL 1303501|         F|          Q|            110|                0|    25-44|       M|WHITE HISPANIC|   1019164|    210169|40.7434812638841|-73.8740035373971|    POINT (-73.874003...|\n",
      "| 270519574| 06/28/2023|  157|              RAPE 1|  104|                RAPE|PL 1303501|         F|          K|             84|                0|    25-44|       M|BLACK HISPANIC|    988902|    192641|40.6954388081238|-73.9832253756043|    POINT (-73.983225...|\n",
      "| 261548646| 01/07/2023|  105|   STRANGULATION 1ST|  106|      FELONY ASSAULT|PL 1211200|         F|          M|             30|                0|    25-44|       M|         BLACK|   1000749|    241092|       40.828405|       -73.940382|    POINT (-73.940382...|\n",
      "| 261804377| 01/12/2023|  101|           ASSAULT 3|  344|ASSAULT 3 & RELAT...|PL 1200001|         M|          K|             90|                0|    25-44|       F|         BLACK|   1002011|    195396|       40.702979|        -73.93594|    POINT (-73.93594 ...|\n",
      "| 262023529| 01/17/2023|  748|   CONTEMPT,CRIMINAL|  359|OFFENSES AGAINST ...|PL 2155003|         M|          B|             44|                0|    25-44|       M|         BLACK|   1006537|    244511|       40.837774|       -73.919455|    POINT (-73.919455...|\n",
      "| 262182102| 01/19/2023|  729|FORGERY,ETC.,UNCL...|  113|             FORGERY|PL 1702500|         F|          B|             44|                0|    25-44|       M|         BLACK|   1009388|    242814|        40.83311|       -73.909156|    POINT (-73.909156...|\n",
      "| 261285672| 01/03/2023|  101|           ASSAULT 3|  344|ASSAULT 3 & RELAT...|PL 1200001|         M|          B|             47|                0|    25-44|       M|         BLACK|   1029801|    256194|       40.869752|       -73.835303|    POINT (-73.835303...|\n",
      "| 261328036| 01/04/2023|  397|ROBBERY,OPEN AREA...|  105|             ROBBERY|PL 1601001|         F|          B|             50|                0|    25-44|       F|         BLACK|   1010983|    261033|       40.883111|        -73.90332|    POINT (-73.90332 ...|\n",
      "| 263314647| 02/09/2023|  263|         ARSON 2,3,4|  114|               ARSON|PL 1501500|         F|          K|             90|               71|    45-64|       M|         WHITE|    998016|    196598|       40.706283|       -73.950348|    POINT (-73.950348...|\n",
      "| 262494405| 01/25/2023|  105|   STRANGULATION 1ST|  106|      FELONY ASSAULT|PL 1211200|         F|          K|             75|                0|    25-44|       M|         BLACK|   1017119|    183909|       40.671404|       -73.881509|    POINT (-73.881509...|\n",
      "| 262715728| 01/30/2023|  105|   STRANGULATION 1ST|  106|      FELONY ASSAULT|PL 1211300|         F|          S|            122|                0|    18-24|       M|         WHITE|    955736|    149728|       40.577599|       -74.102644|    POINT (-74.102644...|\n",
      "+----------+-----------+-----+--------------------+-----+--------------------+----------+----------+-----------+---------------+-----------------+---------+--------+--------------+----------+----------+----------------+-----------------+------------------------+\n",
      "only showing top 20 rows\n",
      "\n"
     ]
    }
   ],
   "source": [
    "df = spark.read.csv('NYPD_Arrest_Data__Year_to_Date_.csv', header=True, inferSchema=True)\n",
    "df.show()"
   ]
  },
  {
   "cell_type": "code",
   "execution_count": 27,
   "id": "316f6d44",
   "metadata": {},
   "outputs": [
    {
     "name": "stdout",
     "output_type": "stream",
     "text": [
      "root\n",
      " |-- ARREST_KEY: integer (nullable = true)\n",
      " |-- ARREST_DATE: string (nullable = true)\n",
      " |-- PD_CD: integer (nullable = true)\n",
      " |-- PD_DESC: string (nullable = true)\n",
      " |-- KY_CD: integer (nullable = true)\n",
      " |-- OFNS_DESC: string (nullable = true)\n",
      " |-- LAW_CODE: string (nullable = true)\n",
      " |-- LAW_CAT_CD: string (nullable = true)\n",
      " |-- ARREST_BORO: string (nullable = true)\n",
      " |-- ARREST_PRECINCT: integer (nullable = true)\n",
      " |-- JURISDICTION_CODE: integer (nullable = true)\n",
      " |-- AGE_GROUP: string (nullable = true)\n",
      " |-- PERP_SEX: string (nullable = true)\n",
      " |-- PERP_RACE: string (nullable = true)\n",
      " |-- X_COORD_CD: integer (nullable = true)\n",
      " |-- Y_COORD_CD: integer (nullable = true)\n",
      " |-- Latitude: double (nullable = true)\n",
      " |-- Longitude: double (nullable = true)\n",
      " |-- New Georeferenced Column: string (nullable = true)\n",
      "\n"
     ]
    }
   ],
   "source": [
    "df.printSchema()"
   ]
  },
  {
   "cell_type": "code",
   "execution_count": 28,
   "id": "deec269e",
   "metadata": {},
   "outputs": [
    {
     "name": "stdout",
     "output_type": "stream",
     "text": [
      "+-------+--------------------+-----------+------------------+--------------------+------------------+--------------------+----------+----------+-----------+------------------+------------------+---------+--------+--------------------+------------------+------------------+-------------------+-------------------+------------------------+\n",
      "|summary|          ARREST_KEY|ARREST_DATE|             PD_CD|             PD_DESC|             KY_CD|           OFNS_DESC|  LAW_CODE|LAW_CAT_CD|ARREST_BORO|   ARREST_PRECINCT| JURISDICTION_CODE|AGE_GROUP|PERP_SEX|           PERP_RACE|        X_COORD_CD|        Y_COORD_CD|           Latitude|          Longitude|New Georeferenced Column|\n",
      "+-------+--------------------+-----------+------------------+--------------------+------------------+--------------------+----------+----------+-----------+------------------+------------------+---------+--------+--------------------+------------------+------------------+-------------------+-------------------+------------------------+\n",
      "|  count|              112571|     112571|            112110|              112571|            112105|              112571|    112571|    111725|     112571|            112571|            112571|   112571|  112571|              112571|            112571|            112571|             112571|             112571|                  112571|\n",
      "|   mean|2.6604182562875873E8|       NULL|425.56285790741236|                NULL|249.99966103206816|                NULL|      NULL|       9.0|       NULL|63.495527267235786|0.9699833882616304|     NULL|    NULL|                NULL|1005906.0021053379| 208392.8589334731|  40.73825847677855| -73.92113704967059|                    NULL|\n",
      "| stddev|  2753892.9317133543|       NULL| 276.2386877607133|                NULL|147.86080691735063|                NULL|      NULL|       0.0|       NULL|34.516551010580116| 7.865726891719811|     NULL|    NULL|                NULL|21594.549870569208|29807.535869470255|0.14640510119820196|0.23343205302877287|                    NULL|\n",
      "|    min|           261180920| 01/01/2023|                12|              (null)|               101|              (null)|ABC00000MA|         9|          B|                 1|                 0|    18-24|       F|AMERICAN INDIAN/A...|                 0|                 0|                0.0|         -74.251844|    POINT (-73.701605...|\n",
      "|    max|           270661337| 06/30/2023|               997|WEAPONS,MFR,TRANS...|               995|VEHICLE AND TRAFF...|VTL21300A5|         V|          S|               123|                97|      <18|       U|      WHITE HISPANIC|           1066940|            271819|          40.912714|                0.0|             POINT (0 0)|\n",
      "+-------+--------------------+-----------+------------------+--------------------+------------------+--------------------+----------+----------+-----------+------------------+------------------+---------+--------+--------------------+------------------+------------------+-------------------+-------------------+------------------------+\n",
      "\n"
     ]
    }
   ],
   "source": [
    "stats = df.describe()\n",
    "stats.show()"
   ]
  },
  {
   "cell_type": "code",
   "execution_count": 29,
   "id": "ef8abdb6",
   "metadata": {},
   "outputs": [
    {
     "name": "stdout",
     "output_type": "stream",
     "text": [
      "Number of Rows: 112571\n",
      "Number of Columns: 19\n"
     ]
    }
   ],
   "source": [
    "num_rows = df.count()\n",
    "num_cols = len(df.columns)\n",
    "\n",
    "print(\"Number of Rows: {}\".format(num_rows))\n",
    "print(\"Number of Columns: {}\".format(num_cols))"
   ]
  },
  {
   "cell_type": "code",
   "execution_count": 30,
   "id": "463fab31",
   "metadata": {},
   "outputs": [
    {
     "name": "stdout",
     "output_type": "stream",
     "text": [
      "+----------+-----------+-----+-------+-----+---------+--------+----------+-----------+---------------+-----------------+---------+--------+---------+----------+----------+--------+---------+------------------------+\n",
      "|ARREST_KEY|ARREST_DATE|PD_CD|PD_DESC|KY_CD|OFNS_DESC|LAW_CODE|LAW_CAT_CD|ARREST_BORO|ARREST_PRECINCT|JURISDICTION_CODE|AGE_GROUP|PERP_SEX|PERP_RACE|X_COORD_CD|Y_COORD_CD|Latitude|Longitude|New Georeferenced Column|\n",
      "+----------+-----------+-----+-------+-----+---------+--------+----------+-----------+---------------+-----------------+---------+--------+---------+----------+----------+--------+---------+------------------------+\n",
      "|         0|          0|  461|      0|  466|        0|       0|       846|          0|              0|                0|        0|       0|        0|         0|         0|       0|        0|                       0|\n",
      "+----------+-----------+-----+-------+-----+---------+--------+----------+-----------+---------------+-----------------+---------+--------+---------+----------+----------+--------+---------+------------------------+\n",
      "\n"
     ]
    }
   ],
   "source": [
    "from pyspark.sql.functions import col, sum\n",
    "\n",
    "null_counts = df.agg(*[sum(col(c).isNull().cast(\"int\")).alias(c) for c in df.columns])\n",
    "null_counts.show()\n"
   ]
  },
  {
   "cell_type": "code",
   "execution_count": 31,
   "id": "59c2fe9a",
   "metadata": {},
   "outputs": [
    {
     "name": "stdout",
     "output_type": "stream",
     "text": [
      "+----------+-----------+-----+-------+-----+---------+--------+----------+-----------+---------------+-----------------+---------+--------+---------+----------+----------+--------+---------+------------------------+\n",
      "|ARREST_KEY|ARREST_DATE|PD_CD|PD_DESC|KY_CD|OFNS_DESC|LAW_CODE|LAW_CAT_CD|ARREST_BORO|ARREST_PRECINCT|JURISDICTION_CODE|AGE_GROUP|PERP_SEX|PERP_RACE|X_COORD_CD|Y_COORD_CD|Latitude|Longitude|New Georeferenced Column|\n",
      "+----------+-----------+-----+-------+-----+---------+--------+----------+-----------+---------------+-----------------+---------+--------+---------+----------+----------+--------+---------+------------------------+\n",
      "|         0|          0|    0|      0|    0|        0|       0|         0|          0|              0|                0|        0|       0|        0|         0|         0|       0|        0|                       0|\n",
      "+----------+-----------+-----+-------+-----+---------+--------+----------+-----------+---------------+-----------------+---------+--------+---------+----------+----------+--------+---------+------------------------+\n",
      "\n"
     ]
    }
   ],
   "source": [
    "df = df.dropna()\n",
    "null_counts_cleaned = df.agg(*[sum(col(c).isNull().cast(\"int\")).alias(c) for c in df_cleaned.columns])\n",
    "\n",
    "null_counts_cleaned.show()"
   ]
  },
  {
   "cell_type": "code",
   "execution_count": 32,
   "id": "167a908c",
   "metadata": {},
   "outputs": [
    {
     "name": "stdout",
     "output_type": "stream",
     "text": [
      "Accuracy: 0.804122468659595\n"
     ]
    }
   ],
   "source": [
    "from pyspark.ml.feature import StringIndexer, VectorAssembler\n",
    "from pyspark.ml.classification import RandomForestClassifier\n",
    "from pyspark.ml.evaluation import MulticlassClassificationEvaluator\n",
    "\n",
    "boro_indexer = StringIndexer(inputCol='ARREST_BORO', outputCol='ARREST_BORO_Index')\n",
    "age_group_indexer = StringIndexer(inputCol='AGE_GROUP', outputCol='AGE_GROUP_Index')\n",
    "sex_indexer = StringIndexer(inputCol='PERP_SEX', outputCol='PERP_SEX_Index')\n",
    "\n",
    "assembler = VectorAssembler(inputCols=['ARREST_BORO_Index', 'AGE_GROUP_Index', 'ARREST_PRECINCT'], outputCol='features')\n",
    "\n",
    "df = boro_indexer.fit(df).transform(df)\n",
    "df = age_group_indexer.fit(df).transform(df)\n",
    "df = sex_indexer.fit(df).transform(df)\n",
    "df = assembler.transform(df)\n",
    "\n",
    "(trainingData, testData) = df.randomSplit([0.7, 0.3], seed=42)\n",
    "\n",
    "rf = RandomForestClassifier(labelCol='PERP_SEX_Index', featuresCol='features', numTrees=100)\n",
    "model = rf.fit(trainingData)\n",
    "\n",
    "predictions = model.transform(testData)\n",
    "\n",
    "evaluator = MulticlassClassificationEvaluator(labelCol='PERP_SEX_Index', predictionCol='prediction', metricName='accuracy')\n",
    "accuracy = evaluator.evaluate(predictions)\n",
    "print(f'Accuracy: {accuracy}')"
   ]
  },
  {
   "cell_type": "code",
   "execution_count": 34,
   "id": "eef30416",
   "metadata": {},
   "outputs": [
    {
     "name": "stdout",
     "output_type": "stream",
     "text": [
      "Root Mean Square Error: 0.4795570089203282\n",
      "Coefficients: [0.0022752942107723776,0.0016682245442554914,-1.152603446407698e-05]\n",
      "Intercept: 0.2185883353705178\n"
     ]
    }
   ],
   "source": [
    "from pyspark.ml.regression import LinearRegression\n",
    "from pyspark.ml.evaluation import RegressionEvaluator\n",
    "\n",
    "(trainingData, testData) = df.randomSplit([0.7, 0.3], seed=42)\n",
    "\n",
    "lr = LinearRegression(labelCol='PERP_SEX_Index', featuresCol='features')\n",
    "\n",
    "lr_model = lr.fit(trainingData)\n",
    "\n",
    "predictions = lr_model.transform(testData)\n",
    "\n",
    "evaluator = RegressionEvaluator(labelCol='PERP_SEX_Index', predictionCol='prediction', metricName='rmse')\n",
    "\n",
    "rmse = evaluator.evaluate(predictions)\n",
    "print(f'Root Mean Square Error: {rmse}')\n",
    "\n",
    "coefficients = lr_model.coefficients\n",
    "intercept = lr_model.intercept\n",
    "\n",
    "print(\"Coefficients: \" + str(coefficients))\n",
    "print(\"Intercept: \" + str(intercept))\n"
   ]
  }
 ],
 "metadata": {
  "kernelspec": {
   "display_name": "Python 3 (ipykernel)",
   "language": "python",
   "name": "python3"
  },
  "language_info": {
   "codemirror_mode": {
    "name": "ipython",
    "version": 3
   },
   "file_extension": ".py",
   "mimetype": "text/x-python",
   "name": "python",
   "nbconvert_exporter": "python",
   "pygments_lexer": "ipython3",
   "version": "3.9.7"
  }
 },
 "nbformat": 4,
 "nbformat_minor": 5
}
